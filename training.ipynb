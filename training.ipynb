{
 "cells": [
  {
   "cell_type": "code",
   "execution_count": 2,
   "id": "817f405e-fff4-4bcb-930b-acbe999431b6",
   "metadata": {},
   "outputs": [],
   "source": [
    "from sklearn.ensemble import RandomForestClassifier\n",
    "from sklearn.compose import ColumnTransformer\n",
    "from sklearn.compose import make_column_selector\n",
    "from sklearn.preprocessing import OrdinalEncoder\n",
    "from sklearn.preprocessing import StandardScaler\n",
    "from sklearn.pipeline import Pipeline\n",
    "from sklearn.model_selection import train_test_split\n",
    "import pandas as pd\n",
    "from pathlib import Path\n",
    "import sklearn\n",
    "\n",
    "sklearn.set_config(display='diagram')"
   ]
  },
  {
   "cell_type": "markdown",
   "id": "e68676b0-1a1c-4c2b-a01b-a4d097a43229",
   "metadata": {},
   "source": [
    "## Load Data"
   ]
  },
  {
   "cell_type": "code",
   "execution_count": 5,
   "id": "706755e7-ffb9-45ee-ae54-06c8e8aef369",
   "metadata": {},
   "outputs": [],
   "source": [
    "categorical_columns = ['island', 'gender']\n",
    "numerical_columns = [\n",
    "    'culmen_length_mm', 'culmen_depth_mm', 'flipper_length_mm', 'body_mass_g'\n",
    "]\n",
    "feature_names = categorical_columns + numerical_columns"
   ]
  },
  {
   "cell_type": "code",
   "execution_count": 6,
   "id": "a2cc5119-290d-4410-944c-9a5199e8326d",
   "metadata": {},
   "outputs": [],
   "source": [
    "penguins = pd.read_csv(Path(\"media\") / \"penguins.csv\")"
   ]
  },
  {
   "cell_type": "code",
   "execution_count": 7,
   "id": "06bc11ee-dfc8-48a2-b9bd-90b9e3e9ee38",
   "metadata": {},
   "outputs": [],
   "source": [
    "X = penguins[feature_names]\n",
    "y = penguins['species']"
   ]
  },
  {
   "cell_type": "markdown",
   "id": "bd1020ed-1397-4269-9829-c50a02a85995",
   "metadata": {},
   "source": [
    "## Create Pipeline"
   ]
  },
  {
   "cell_type": "code",
   "execution_count": 8,
   "id": "44568a52-0754-48d7-9311-893288357d29",
   "metadata": {},
   "outputs": [],
   "source": [
    "ct = ColumnTransformer([\n",
    "    (\"category\", OrdinalEncoder(), categorical_columns),\n",
    "    (\"numerical\", 'passthrough', numerical_columns)\n",
    "])"
   ]
  },
  {
   "cell_type": "code",
   "execution_count": 9,
   "id": "aac9a09c-14c1-404a-946d-f6363d18ec2f",
   "metadata": {},
   "outputs": [],
   "source": [
    "clf = Pipeline([\n",
    "    (\"preprocess\", ct),\n",
    "    (\"random_forest\", RandomForestClassifier(random_state=42))\n",
    "])"
   ]
  },
  {
   "cell_type": "code",
   "execution_count": 10,
   "id": "d4effbda-349f-4fbf-aa1a-781389da32c2",
   "metadata": {},
   "outputs": [
    {
     "data": {
      "text/html": [
       "<style>#sk-49aa47f5-42c3-4652-aff4-d01b19995544 {color: black;background-color: white;}#sk-49aa47f5-42c3-4652-aff4-d01b19995544 pre{padding: 0;}#sk-49aa47f5-42c3-4652-aff4-d01b19995544 div.sk-toggleable {background-color: white;}#sk-49aa47f5-42c3-4652-aff4-d01b19995544 label.sk-toggleable__label {cursor: pointer;display: block;width: 100%;margin-bottom: 0;padding: 0.2em 0.3em;box-sizing: border-box;text-align: center;}#sk-49aa47f5-42c3-4652-aff4-d01b19995544 div.sk-toggleable__content {max-height: 0;max-width: 0;overflow: hidden;text-align: left;background-color: #f0f8ff;}#sk-49aa47f5-42c3-4652-aff4-d01b19995544 div.sk-toggleable__content pre {margin: 0.2em;color: black;border-radius: 0.25em;background-color: #f0f8ff;}#sk-49aa47f5-42c3-4652-aff4-d01b19995544 input.sk-toggleable__control:checked~div.sk-toggleable__content {max-height: 200px;max-width: 100%;overflow: auto;}#sk-49aa47f5-42c3-4652-aff4-d01b19995544 div.sk-estimator input.sk-toggleable__control:checked~label.sk-toggleable__label {background-color: #d4ebff;}#sk-49aa47f5-42c3-4652-aff4-d01b19995544 div.sk-label input.sk-toggleable__control:checked~label.sk-toggleable__label {background-color: #d4ebff;}#sk-49aa47f5-42c3-4652-aff4-d01b19995544 input.sk-hidden--visually {border: 0;clip: rect(1px 1px 1px 1px);clip: rect(1px, 1px, 1px, 1px);height: 1px;margin: -1px;overflow: hidden;padding: 0;position: absolute;width: 1px;}#sk-49aa47f5-42c3-4652-aff4-d01b19995544 div.sk-estimator {font-family: monospace;background-color: #f0f8ff;margin: 0.25em 0.25em;border: 1px dotted black;border-radius: 0.25em;box-sizing: border-box;}#sk-49aa47f5-42c3-4652-aff4-d01b19995544 div.sk-estimator:hover {background-color: #d4ebff;}#sk-49aa47f5-42c3-4652-aff4-d01b19995544 div.sk-parallel-item::after {content: \"\";width: 100%;border-bottom: 1px solid gray;flex-grow: 1;}#sk-49aa47f5-42c3-4652-aff4-d01b19995544 div.sk-label:hover label.sk-toggleable__label {background-color: #d4ebff;}#sk-49aa47f5-42c3-4652-aff4-d01b19995544 div.sk-serial::before {content: \"\";position: absolute;border-left: 1px solid gray;box-sizing: border-box;top: 2em;bottom: 0;left: 50%;}#sk-49aa47f5-42c3-4652-aff4-d01b19995544 div.sk-serial {display: flex;flex-direction: column;align-items: center;background-color: white;}#sk-49aa47f5-42c3-4652-aff4-d01b19995544 div.sk-item {z-index: 1;}#sk-49aa47f5-42c3-4652-aff4-d01b19995544 div.sk-parallel {display: flex;align-items: stretch;justify-content: center;background-color: white;}#sk-49aa47f5-42c3-4652-aff4-d01b19995544 div.sk-parallel-item {display: flex;flex-direction: column;position: relative;background-color: white;}#sk-49aa47f5-42c3-4652-aff4-d01b19995544 div.sk-parallel-item:first-child::after {align-self: flex-end;width: 50%;}#sk-49aa47f5-42c3-4652-aff4-d01b19995544 div.sk-parallel-item:last-child::after {align-self: flex-start;width: 50%;}#sk-49aa47f5-42c3-4652-aff4-d01b19995544 div.sk-parallel-item:only-child::after {width: 0;}#sk-49aa47f5-42c3-4652-aff4-d01b19995544 div.sk-dashed-wrapped {border: 1px dashed gray;margin: 0.2em;box-sizing: border-box;padding-bottom: 0.1em;background-color: white;position: relative;}#sk-49aa47f5-42c3-4652-aff4-d01b19995544 div.sk-label label {font-family: monospace;font-weight: bold;background-color: white;display: inline-block;line-height: 1.2em;}#sk-49aa47f5-42c3-4652-aff4-d01b19995544 div.sk-label-container {position: relative;z-index: 2;text-align: center;}#sk-49aa47f5-42c3-4652-aff4-d01b19995544 div.sk-container {display: inline-block;position: relative;}</style><div id=\"sk-49aa47f5-42c3-4652-aff4-d01b19995544\" class\"sk-top-container\"><div class=\"sk-container\"><div class=\"sk-item sk-dashed-wrapped\"><div class=\"sk-label-container\"><div class=\"sk-label sk-toggleable\"><input class=\"sk-toggleable__control sk-hidden--visually\" id=\"c2b1e56d-68ea-400a-88d4-fc502e4b603d\" type=\"checkbox\" ><label class=\"sk-toggleable__label\" for=\"c2b1e56d-68ea-400a-88d4-fc502e4b603d\">Pipeline</label><div class=\"sk-toggleable__content\"><pre>Pipeline(steps=[('preprocess',\n",
       "                 ColumnTransformer(transformers=[('category', OrdinalEncoder(),\n",
       "                                                  ['island', 'gender']),\n",
       "                                                 ('numerical', 'passthrough',\n",
       "                                                  ['culmen_length_mm',\n",
       "                                                   'culmen_depth_mm',\n",
       "                                                   'flipper_length_mm',\n",
       "                                                   'body_mass_g'])])),\n",
       "                ('random_forest', RandomForestClassifier(random_state=42))])</pre></div></div></div><div class=\"sk-serial\"><div class=\"sk-item sk-dashed-wrapped\"><div class=\"sk-label-container\"><div class=\"sk-label sk-toggleable\"><input class=\"sk-toggleable__control sk-hidden--visually\" id=\"f68066f4-6e59-4738-99cd-73e2c56d1e99\" type=\"checkbox\" ><label class=\"sk-toggleable__label\" for=\"f68066f4-6e59-4738-99cd-73e2c56d1e99\">preprocess: ColumnTransformer</label><div class=\"sk-toggleable__content\"><pre>ColumnTransformer(transformers=[('category', OrdinalEncoder(),\n",
       "                                 ['island', 'gender']),\n",
       "                                ('numerical', 'passthrough',\n",
       "                                 ['culmen_length_mm', 'culmen_depth_mm',\n",
       "                                  'flipper_length_mm', 'body_mass_g'])])</pre></div></div></div><div class=\"sk-parallel\"><div class=\"sk-parallel-item\"><div class=\"sk-item\"><div class=\"sk-label-container\"><div class=\"sk-label sk-toggleable\"><input class=\"sk-toggleable__control sk-hidden--visually\" id=\"45580c93-2e77-45d1-ae06-802a83e0e173\" type=\"checkbox\" ><label class=\"sk-toggleable__label\" for=\"45580c93-2e77-45d1-ae06-802a83e0e173\">category</label><div class=\"sk-toggleable__content\"><pre>['island', 'gender']</pre></div></div></div><div class=\"sk-serial\"><div class=\"sk-item\"><div class=\"sk-estimator sk-toggleable\"><input class=\"sk-toggleable__control sk-hidden--visually\" id=\"ebe8ba5f-77e5-4536-b96c-64de9821c632\" type=\"checkbox\" ><label class=\"sk-toggleable__label\" for=\"ebe8ba5f-77e5-4536-b96c-64de9821c632\">OrdinalEncoder</label><div class=\"sk-toggleable__content\"><pre>OrdinalEncoder()</pre></div></div></div></div></div></div><div class=\"sk-parallel-item\"><div class=\"sk-item\"><div class=\"sk-label-container\"><div class=\"sk-label sk-toggleable\"><input class=\"sk-toggleable__control sk-hidden--visually\" id=\"4bef5614-b06b-4602-a568-e048a48202f3\" type=\"checkbox\" ><label class=\"sk-toggleable__label\" for=\"4bef5614-b06b-4602-a568-e048a48202f3\">numerical</label><div class=\"sk-toggleable__content\"><pre>['culmen_length_mm', 'culmen_depth_mm', 'flipper_length_mm', 'body_mass_g']</pre></div></div></div><div class=\"sk-serial\"><div class=\"sk-item\"><div class=\"sk-estimator sk-toggleable\"><input class=\"sk-toggleable__control sk-hidden--visually\" id=\"cbc3461a-7b0c-4c4a-8667-d8434adcfd37\" type=\"checkbox\" ><label class=\"sk-toggleable__label\" for=\"cbc3461a-7b0c-4c4a-8667-d8434adcfd37\">passthrough</label><div class=\"sk-toggleable__content\"><pre>passthrough</pre></div></div></div></div></div></div></div></div><div class=\"sk-item\"><div class=\"sk-estimator sk-toggleable\"><input class=\"sk-toggleable__control sk-hidden--visually\" id=\"f5b054e3-0dd0-4334-a4a8-845a29ceb142\" type=\"checkbox\" ><label class=\"sk-toggleable__label\" for=\"f5b054e3-0dd0-4334-a4a8-845a29ceb142\">RandomForestClassifier</label><div class=\"sk-toggleable__content\"><pre>RandomForestClassifier(random_state=42)</pre></div></div></div></div></div></div></div>"
      ],
      "text/plain": [
       "Pipeline(steps=[('preprocess',\n",
       "                 ColumnTransformer(transformers=[('category', OrdinalEncoder(),\n",
       "                                                  ['island', 'gender']),\n",
       "                                                 ('numerical', 'passthrough',\n",
       "                                                  ['culmen_length_mm',\n",
       "                                                   'culmen_depth_mm',\n",
       "                                                   'flipper_length_mm',\n",
       "                                                   'body_mass_g'])])),\n",
       "                ('random_forest', RandomForestClassifier(random_state=42))])"
      ]
     },
     "execution_count": 10,
     "metadata": {},
     "output_type": "execute_result"
    }
   ],
   "source": [
    "clf"
   ]
  },
  {
   "cell_type": "markdown",
   "id": "679f9834-601a-499d-b575-a4cda25a74ef",
   "metadata": {},
   "source": [
    "## Train and Evaluate Model"
   ]
  },
  {
   "cell_type": "code",
   "execution_count": 11,
   "id": "9b1c8f9c-01c4-4619-98d9-6dba173cf34a",
   "metadata": {},
   "outputs": [],
   "source": [
    "from sklearn.model_selection import train_test_split"
   ]
  },
  {
   "cell_type": "code",
   "execution_count": 12,
   "id": "479cf932-95cf-439a-9db8-e33b836f29f6",
   "metadata": {},
   "outputs": [],
   "source": [
    "X_train, X_test, y_train, y_test = train_test_split(\n",
    "    X, y, random_state=0, stratify=y)"
   ]
  },
  {
   "cell_type": "code",
   "execution_count": 13,
   "id": "3f82f439-f673-4efc-a9b3-2c9f99a69d07",
   "metadata": {},
   "outputs": [],
   "source": [
    "_ = clf.fit(X_train, y_train)"
   ]
  },
  {
   "cell_type": "code",
   "execution_count": 14,
   "id": "1cf33d42-c683-4ac8-a038-c88642497ee0",
   "metadata": {},
   "outputs": [
    {
     "data": {
      "text/plain": [
       "0.9880952380952381"
      ]
     },
     "execution_count": 14,
     "metadata": {},
     "output_type": "execute_result"
    }
   ],
   "source": [
    "clf.score(X_test, y_test)"
   ]
  },
  {
   "cell_type": "markdown",
   "id": "f7a565f1-ab3c-4440-8414-2abde38c598f",
   "metadata": {},
   "source": [
    "## Serialize model"
   ]
  },
  {
   "cell_type": "code",
   "execution_count": 18,
   "id": "9c4b3160-6f85-4040-87f4-89945bb348a0",
   "metadata": {},
   "outputs": [],
   "source": [
    "from pathlib import Path\n",
    "import joblib"
   ]
  },
  {
   "cell_type": "code",
   "execution_count": 16,
   "id": "d964737f-9fcd-4524-8b91-5853859c960f",
   "metadata": {},
   "outputs": [],
   "source": [
    "_ = clf.fit(X, y)"
   ]
  },
  {
   "cell_type": "code",
   "execution_count": 19,
   "id": "ba7fa2aa-6ecd-435e-a086-90b73c53df02",
   "metadata": {},
   "outputs": [
    {
     "data": {
      "text/plain": [
       "['media/penguin_clf.joblib']"
      ]
     },
     "execution_count": 19,
     "metadata": {},
     "output_type": "execute_result"
    }
   ],
   "source": [
    "media_dir = Path(\"media\")\n",
    "joblib.dump(clf, media_dir / \"penguin_clf.joblib\")"
   ]
  }
 ],
 "metadata": {
  "kernelspec": {
   "display_name": "Python 3 (ipykernel)",
   "language": "python",
   "name": "python3"
  },
  "language_info": {
   "codemirror_mode": {
    "name": "ipython",
    "version": 3
   },
   "file_extension": ".py",
   "mimetype": "text/x-python",
   "name": "python",
   "nbconvert_exporter": "python",
   "pygments_lexer": "ipython3",
   "version": "3.8.10"
  }
 },
 "nbformat": 4,
 "nbformat_minor": 5
}
